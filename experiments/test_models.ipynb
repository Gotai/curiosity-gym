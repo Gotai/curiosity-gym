{
 "cells": [
  {
   "cell_type": "code",
   "execution_count": 1,
   "metadata": {},
   "outputs": [],
   "source": [
    "# Import algorithm and Curiosity Gym environments \n",
    "from stable_baselines3 import PPO\n",
    "from curiosity_gym import DistractiveEnv, SparseEnv, MultitaskEnv"
   ]
  },
  {
   "cell_type": "code",
   "execution_count": 2,
   "metadata": {},
   "outputs": [],
   "source": [
    "# Define environments\n",
    "pov = \"local_2\"\n",
    "env_sparse = SparseEnv(agentPOV=pov)\n",
    "env_distractive = DistractiveEnv(agentPOV=pov)\n",
    "env_multitask1 = MultitaskEnv(agentPOV=pov, task=1)\n",
    "env_multitask2 = MultitaskEnv(agentPOV=pov, task=2)"
   ]
  },
  {
   "cell_type": "code",
   "execution_count": 3,
   "metadata": {},
   "outputs": [
    {
     "name": "stdout",
     "output_type": "stream",
     "text": [
      "Using cpu device\n",
      "Wrapping the env with a `Monitor` wrapper\n",
      "Wrapping the env in a DummyVecEnv.\n",
      "Using cpu device\n",
      "Wrapping the env with a `Monitor` wrapper\n",
      "Wrapping the env in a DummyVecEnv.\n",
      "Using cpu device\n",
      "Wrapping the env with a `Monitor` wrapper\n",
      "Wrapping the env in a DummyVecEnv.\n",
      "Using cpu device\n",
      "Wrapping the env with a `Monitor` wrapper\n",
      "Wrapping the env in a DummyVecEnv.\n"
     ]
    }
   ],
   "source": [
    "# Load models\n",
    "model_sparse = PPO(\"MlpPolicy\", env_sparse, verbose=1).load(\"models/ppo_sparseenv_local2_500k\")\n",
    "model_distractive = PPO(\"MlpPolicy\", env_distractive, verbose=1).load(\"models/ppo_distractiveenv_local2_500k\")\n",
    "model_multitask1 = PPO(\"MlpPolicy\", env_multitask1, verbose=1).load(\"models/ppo_multitask1_local2_500k\")\n",
    "model_multitask2 = PPO(\"MlpPolicy\", env_multitask1, verbose=1).load(\"models/ppo_multitask2_local2_500k\")\n"
   ]
  },
  {
   "cell_type": "code",
   "execution_count": 4,
   "metadata": {},
   "outputs": [],
   "source": [
    "# Define test function\n",
    "def test(model, env, n):\n",
    "    score = 0\n",
    "    \n",
    "    for _ in range(n):\n",
    "        obs, info = env.reset()\n",
    "        terminated, truncated = False, False\n",
    "        returns = 0\n",
    "        while not (terminated or truncated):\n",
    "            action = model.predict(obs)\n",
    "            obs, reward, terminated, truncated, info = env.step(action[0])\n",
    "            returns += reward\n",
    "        score += returns\n",
    "    \n",
    "    return score / n"
   ]
  },
  {
   "cell_type": "code",
   "execution_count": 5,
   "metadata": {},
   "outputs": [
    {
     "name": "stdout",
     "output_type": "stream",
     "text": [
      "PPO - Sparse:  0.0\n",
      "PPO - Distractive:  0.49659999999999976\n",
      "PPO - Multitask 1:  0.9693208446708188\n",
      "PPO - Multitask 2:  0.9969494949494953\n"
     ]
    }
   ],
   "source": [
    "# Execute tests with n episodes\n",
    "n = 1000\n",
    "print(\"PPO - Sparse: \", test(model_sparse, env_sparse, n))\n",
    "print(\"PPO - Distractive: \", test(model_distractive, env_distractive, n))\n",
    "print(\"PPO - Multitask 1: \", test(model_multitask1, env_multitask1, n))\n",
    "print(\"PPO - Multitask 2: \", test(model_multitask2, env_multitask2, n))"
   ]
  }
 ],
 "metadata": {
  "kernelspec": {
   "display_name": ".venv",
   "language": "python",
   "name": "python3"
  },
  "language_info": {
   "codemirror_mode": {
    "name": "ipython",
    "version": 3
   },
   "file_extension": ".py",
   "mimetype": "text/x-python",
   "name": "python",
   "nbconvert_exporter": "python",
   "pygments_lexer": "ipython3",
   "version": "3.12.7"
  }
 },
 "nbformat": 4,
 "nbformat_minor": 2
}
