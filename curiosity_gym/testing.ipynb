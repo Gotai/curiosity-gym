{
 "cells": [
  {
   "cell_type": "code",
   "execution_count": 11,
   "metadata": {},
   "outputs": [],
   "source": [
    "import gymnasium as gym\n",
    "import numpy as np\n",
    "from gymnasium import spaces\n",
    "from abc import ABC\n",
    "import pygame\n",
    "import core.objects as ob\n",
    "from envs.sparseenv import SparseEnv\n",
    "from envs.distractiveenv import DistractiveEnv\n",
    "from envs.multitaskenv import MultitaskEnv\n",
    "from core.gridengine import GridEngine\n",
    "from core.agentpov import GlobalView, LocalView"
   ]
  },
  {
   "cell_type": "code",
   "execution_count": 14,
   "metadata": {},
   "outputs": [],
   "source": [
    "#env = SmallNavigationEnv(render_mode=\"human\", agentPOV=pov, window_width=700)\n",
    "env = SparseEnv(render_mode=\"human\", agentPOV=\"local_1\", window_width=850)\n",
    "#env = DistractiveEnv(render_mode=\"human\", agentPOV=pov, window_width=1400)\n",
    "#env = MultitaskEnv(render_mode=\"human\", agentPOV=pov, task=1)"
   ]
  },
  {
   "cell_type": "code",
   "execution_count": 15,
   "metadata": {},
   "outputs": [
    {
     "ename": "KeyboardInterrupt",
     "evalue": "",
     "output_type": "error",
     "traceback": [
      "\u001b[1;31m---------------------------------------------------------------------------\u001b[0m",
      "\u001b[1;31mKeyboardInterrupt\u001b[0m                         Traceback (most recent call last)",
      "Cell \u001b[1;32mIn[15], line 6\u001b[0m\n\u001b[0;32m      4\u001b[0m env\u001b[38;5;241m.\u001b[39mreset()\n\u001b[0;32m      5\u001b[0m \u001b[38;5;28;01mfor\u001b[39;00m action \u001b[38;5;129;01min\u001b[39;00m test3[\u001b[38;5;241m0\u001b[39m]:\n\u001b[1;32m----> 6\u001b[0m     observation, reward, terminated, truncated, info \u001b[38;5;241m=\u001b[39m \u001b[43menv\u001b[49m\u001b[38;5;241;43m.\u001b[39;49m\u001b[43mstep\u001b[49m\u001b[43m(\u001b[49m\u001b[43maction\u001b[49m\u001b[43m)\u001b[49m\n\u001b[0;32m      7\u001b[0m     \u001b[38;5;28;01mif\u001b[39;00m terminated:\n\u001b[0;32m      8\u001b[0m         env\u001b[38;5;241m.\u001b[39mreset()\n",
      "File \u001b[1;32m~\\Documents\\Code\\curiosity-gym\\curiosity_gym\\core\\gridengine.py:67\u001b[0m, in \u001b[0;36mGridEngine.step\u001b[1;34m(self, action)\u001b[0m\n\u001b[0;32m     64\u001b[0m \u001b[38;5;28;01mif\u001b[39;00m \u001b[38;5;28mself\u001b[39m\u001b[38;5;241m.\u001b[39mrender_settings\u001b[38;5;241m.\u001b[39mrender_mode \u001b[38;5;241m==\u001b[39m \u001b[38;5;124m\"\u001b[39m\u001b[38;5;124mhuman\u001b[39m\u001b[38;5;124m\"\u001b[39m:\n\u001b[0;32m     65\u001b[0m     pygame\u001b[38;5;241m.\u001b[39mdisplay\u001b[38;5;241m.\u001b[39mset_caption(\u001b[38;5;124mf\u001b[39m\u001b[38;5;124m\"\u001b[39m\u001b[38;5;124mCuriosity Gym [Current Steps: \u001b[39m\u001b[38;5;132;01m{\u001b[39;00m\u001b[38;5;28mself\u001b[39m\u001b[38;5;241m.\u001b[39mstep_count\u001b[38;5;132;01m}\u001b[39;00m\u001b[38;5;124m, \u001b[39m\u001b[38;5;124m\"\u001b[39m \u001b[38;5;241m+\u001b[39m\n\u001b[0;32m     66\u001b[0m                                 \u001b[38;5;124mf\u001b[39m\u001b[38;5;124m\"\u001b[39m\u001b[38;5;124mStep reward: \u001b[39m\u001b[38;5;132;01m{\u001b[39;00mreward\u001b[38;5;132;01m}\u001b[39;00m\u001b[38;5;124m]\u001b[39m\u001b[38;5;124m\"\u001b[39m)\n\u001b[1;32m---> 67\u001b[0m     \u001b[38;5;28;43mself\u001b[39;49m\u001b[38;5;241;43m.\u001b[39;49m\u001b[43m_render_frame\u001b[49m\u001b[43m(\u001b[49m\u001b[43m)\u001b[49m\n\u001b[0;32m     69\u001b[0m \u001b[38;5;28;01mreturn\u001b[39;00m obs, reward, \u001b[38;5;28mself\u001b[39m\u001b[38;5;241m.\u001b[39m_get_terminated(), \u001b[38;5;28;01mFalse\u001b[39;00m, \u001b[38;5;28mself\u001b[39m\u001b[38;5;241m.\u001b[39m_get_info()\n",
      "File \u001b[1;32m~\\Documents\\Code\\curiosity-gym\\curiosity_gym\\core\\gridengine.py:220\u001b[0m, in \u001b[0;36mGridEngine._render_frame\u001b[1;34m(self)\u001b[0m\n\u001b[0;32m    218\u001b[0m     pygame\u001b[38;5;241m.\u001b[39mevent\u001b[38;5;241m.\u001b[39mpump()\n\u001b[0;32m    219\u001b[0m     pygame\u001b[38;5;241m.\u001b[39mdisplay\u001b[38;5;241m.\u001b[39mupdate()\n\u001b[1;32m--> 220\u001b[0m     \u001b[38;5;28;43mself\u001b[39;49m\u001b[38;5;241;43m.\u001b[39;49m\u001b[43mrender_settings\u001b[49m\u001b[38;5;241;43m.\u001b[39;49m\u001b[43mclock\u001b[49m\u001b[38;5;241;43m.\u001b[39;49m\u001b[43mtick\u001b[49m\u001b[43m(\u001b[49m\u001b[38;5;28;43mself\u001b[39;49m\u001b[38;5;241;43m.\u001b[39;49m\u001b[43mrender_settings\u001b[49m\u001b[38;5;241;43m.\u001b[39;49m\u001b[43mrender_fps\u001b[49m\u001b[43m)\u001b[49m\n\u001b[0;32m    222\u001b[0m \u001b[38;5;66;03m# Return for rgb_array\u001b[39;00m\n\u001b[0;32m    223\u001b[0m \u001b[38;5;28;01melif\u001b[39;00m \u001b[38;5;28mself\u001b[39m\u001b[38;5;241m.\u001b[39mrender_settings\u001b[38;5;241m.\u001b[39mrender_mode \u001b[38;5;241m==\u001b[39m \u001b[38;5;124m\"\u001b[39m\u001b[38;5;124mrgb_array\u001b[39m\u001b[38;5;124m\"\u001b[39m:\n",
      "\u001b[1;31mKeyboardInterrupt\u001b[0m: "
     ]
    }
   ],
   "source": [
    "# Testcase 3: Rotating\n",
    "test3 = ([0,0,0,0,1,3,0,2,0,0,0,3,0,0,0,0,0,2,3,2,0,2,0,3,0,0,0,0,1,0,2,3,1,\n",
    "                  1,3,0,2,0,0,3,0,0,2,0,1,0,0,1,3,1,1,0,1,3,0,0,1,0,0,0,0,1,0,0,0,0]*5,0)\n",
    "env.reset()\n",
    "for action in test3[0]:\n",
    "    observation, reward, terminated, truncated, info = env.step(action)\n",
    "    if terminated:\n",
    "        env.reset()\n",
    "print(terminated)"
   ]
  },
  {
   "cell_type": "code",
   "execution_count": null,
   "metadata": {},
   "outputs": [],
   "source": [
    "observation, reward, terminated, truncated, info = env.step(0)\n",
    "observation"
   ]
  },
  {
   "cell_type": "code",
   "execution_count": null,
   "metadata": {},
   "outputs": [],
   "source": [
    "env.step(0)"
   ]
  },
  {
   "cell_type": "code",
   "execution_count": null,
   "metadata": {},
   "outputs": [],
   "source": [
    "def pos_to_ix(pos, width, height):\n",
    "    return width * pos[1] + pos[0]\n",
    "\n",
    "pos_to_ix((1,1), 15,11)"
   ]
  },
  {
   "cell_type": "code",
   "execution_count": null,
   "metadata": {},
   "outputs": [],
   "source": [
    "env.agent_pov.visible_positions"
   ]
  },
  {
   "cell_type": "code",
   "execution_count": null,
   "metadata": {},
   "outputs": [],
   "source": [
    "for x in [0,1,2]:\n",
    "    for y in [0,1,2]:\n",
    "        new_obs[y*3 + x] = obs[y*15 + x]\n",
    "new_obs"
   ]
  },
  {
   "cell_type": "code",
   "execution_count": null,
   "metadata": {},
   "outputs": [],
   "source": [
    "def slicer(obs, pos, radius, width, height):\n",
    "    min_x = max(0, pos[0] - radius)\n",
    "    max_x = min(width, pos[0] + radius + 1)\n",
    "    min_y = max(0, pos[1] - radius)\n",
    "    max_y = min(width, pos[1] + radius + 1)\n",
    "\n",
    "    local = []\n",
    "    for row in range(min_y, max_y):\n",
    "        row_start = row * width + min_x\n",
    "        row_end = row * width + max_x\n",
    "        local.extend(obs[row_start:row_end])\n",
    "\n",
    "    return local"
   ]
  },
  {
   "cell_type": "code",
   "execution_count": null,
   "metadata": {},
   "outputs": [],
   "source": [
    "obs = np.array([\n",
    "    0, 1, 2, 3, 4, 5, 6, 7, 8, 9,\n",
    "    10, 11, 12, 13, 14, 15, 16, 17, 18, 19,\n",
    "    20, 21, 22, 23, 24, 25, 26, 27, 28, 29,\n",
    "    30, 31, 32, 33, 34, 35, 36, 37, 38, 39,\n",
    "    40, 41, 42, 43, 44, 45, 46, 47, 48, 49,\n",
    "    50, 51, 52, 53, 54, 55, 56, 57, 58, 59,\n",
    "    60, 61, 62, 63, 64, 65, 66, 67, 68, 69,\n",
    "    70, 71, 72, 73, 74, 75, 76, 77, 78, 79,\n",
    "    80, 81, 82, 83, 84, 85, 86, 87, 88, 89,\n",
    "    90, 91, 92, 93, 94, 95, 96, 97, 98, 99\n",
    "])"
   ]
  },
  {
   "cell_type": "code",
   "execution_count": null,
   "metadata": {},
   "outputs": [],
   "source": [
    "slicer(obs, (2,1), 1, 10, 10)"
   ]
  },
  {
   "cell_type": "code",
   "execution_count": null,
   "metadata": {},
   "outputs": [],
   "source": [
    "obs.shape[1]"
   ]
  },
  {
   "cell_type": "code",
   "execution_count": null,
   "metadata": {},
   "outputs": [],
   "source": [
    "from tests.old_test_cases import testsuite\n",
    "testsuite.run_all()"
   ]
  },
  {
   "cell_type": "code",
   "execution_count": null,
   "metadata": {},
   "outputs": [],
   "source": [
    "from tests.old_test_cases import testsuite\n",
    "#testsuite.show(9)\n",
    "testsuite.run(9)"
   ]
  },
  {
   "cell_type": "code",
   "execution_count": null,
   "metadata": {},
   "outputs": [],
   "source": [
    "# Testcase 1: Best Path\n",
    "test1 = ([1]*100, 1)\n",
    "env.reset()\n",
    "for action in test1[0]:\n",
    "    observation, reward, terminated, truncated, info = env.step(action)\n",
    "print(terminated == test1[1])"
   ]
  },
  {
   "cell_type": "code",
   "execution_count": null,
   "metadata": {},
   "outputs": [],
   "source": [
    "# Testcase 2: Trying to break things\n",
    "test2 = ([0,0,2,0,3,0,2,0,0,1,3,0,0], 0)\n",
    "env.reset()\n",
    "for action in test2[0]:\n",
    "    observation, reward, terminated, truncated, info = env.step(action)\n",
    "print(reward)"
   ]
  },
  {
   "cell_type": "code",
   "execution_count": null,
   "metadata": {},
   "outputs": [],
   "source": [
    "state = np.zeros([100 * 100, 3])\n",
    "state[0] = (1,1,1)\n",
    "state"
   ]
  },
  {
   "cell_type": "code",
   "execution_count": null,
   "metadata": {},
   "outputs": [],
   "source": [
    "o = env._get_obs()\n",
    "o.dtype"
   ]
  },
  {
   "cell_type": "code",
   "execution_count": null,
   "metadata": {},
   "outputs": [],
   "source": [
    "from gymnasium.spaces import MultiDiscrete\n",
    "shape = np.ones([165, 3], dtype=int)*10\n",
    "shape = np.full((165,3), 10, dtype=int)\n",
    "s = MultiDiscrete(shape)\n",
    "s.contains(o)"
   ]
  },
  {
   "cell_type": "code",
   "execution_count": null,
   "metadata": {},
   "outputs": [],
   "source": [
    "np.shape(s.sample())"
   ]
  },
  {
   "cell_type": "code",
   "execution_count": null,
   "metadata": {},
   "outputs": [],
   "source": [
    "np.shape(np.zeros([100 * 100, 3]))"
   ]
  },
  {
   "cell_type": "code",
   "execution_count": null,
   "metadata": {},
   "outputs": [],
   "source": [
    "from gymnasium.utils.env_checker import check_env\n",
    "check_env(env.unwrapped)"
   ]
  },
  {
   "cell_type": "code",
   "execution_count": null,
   "metadata": {},
   "outputs": [],
   "source": [
    "from stable_baselines3.common.env_checker import check_env\n",
    "check_env(env)"
   ]
  },
  {
   "cell_type": "code",
   "execution_count": null,
   "metadata": {},
   "outputs": [],
   "source": [
    "from gymnasium.envs.registration import register\n",
    "\n",
    "register(\n",
    "     id=\"Navigation-v0\",\n",
    "     entry_point=\"envs.sparseenv:SparseEnv\",\n",
    "     max_episode_steps=300,\n",
    ")"
   ]
  },
  {
   "cell_type": "code",
   "execution_count": null,
   "metadata": {},
   "outputs": [],
   "source": [
    "env = gym.make(\"Navigation-v0\", agentPOV=pov)"
   ]
  },
  {
   "cell_type": "code",
   "execution_count": null,
   "metadata": {},
   "outputs": [],
   "source": [
    "from stable_baselines3 import PPO\n",
    "env_l = CuriousNavigation(agentPOV=pov)\n",
    "model = PPO(\"MlpPolicy\", env_l, verbose=1)"
   ]
  },
  {
   "cell_type": "code",
   "execution_count": null,
   "metadata": {},
   "outputs": [],
   "source": [
    "model.learn(total_timesteps=50000)"
   ]
  },
  {
   "cell_type": "code",
   "execution_count": null,
   "metadata": {},
   "outputs": [],
   "source": [
    "env = CuriousNavigation(agentPOV=pov, render_mode=\"human\", window_width=700)\n",
    "observation, info = env.reset()\n",
    "for _ in range(1000):\n",
    "    a, states = model.predict(observation)\n",
    "    observation, reward, terminated, truncated, info = env.step(a)\n",
    "    print(a)\n",
    "    if terminated or truncated:\n",
    "        observation, info = env.reset()"
   ]
  },
  {
   "cell_type": "code",
   "execution_count": null,
   "metadata": {},
   "outputs": [],
   "source": [
    "spaces.Box(0, 7, (100,3), dtype=np.float64).sample()"
   ]
  },
  {
   "cell_type": "code",
   "execution_count": null,
   "metadata": {},
   "outputs": [],
   "source": [
    "int(None)"
   ]
  }
 ],
 "metadata": {
  "kernelspec": {
   "display_name": ".venv",
   "language": "python",
   "name": "python3"
  },
  "language_info": {
   "codemirror_mode": {
    "name": "ipython",
    "version": 3
   },
   "file_extension": ".py",
   "mimetype": "text/x-python",
   "name": "python",
   "nbconvert_exporter": "python",
   "pygments_lexer": "ipython3",
   "version": "3.12.3"
  }
 },
 "nbformat": 4,
 "nbformat_minor": 2
}
