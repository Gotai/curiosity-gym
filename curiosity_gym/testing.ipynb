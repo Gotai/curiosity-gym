{
 "cells": [
  {
   "cell_type": "code",
   "execution_count": 3,
   "metadata": {},
   "outputs": [],
   "source": [
    "import gymnasium as gym\n",
    "import numpy as np\n",
    "from gymnasium import spaces\n",
    "from abc import ABC\n",
    "import pygame\n",
    "import core.objects as ob\n",
    "from envs.sparseenv import SparseEnv\n",
    "from envs.distractiveenv import DistractiveEnv\n",
    "from envs.multitaskenv import MultitaskEnv\n",
    "from core.gridenv import GridEnv\n",
    "from core.agentpov import FullView"
   ]
  },
  {
   "cell_type": "code",
   "execution_count": 4,
   "metadata": {},
   "outputs": [],
   "source": [
    "pov = FullView()\n",
    "#env = SmallNavigationEnv(render_mode=\"human\", agentPOV=pov, window_width=700)\n",
    "#env = SparseEnv(render_mode=\"human\", agentPOV=pov, window_width=850)\n",
    "#env = DistractiveEnv(render_mode=\"human\", agentPOV=pov, window_width=1400)\n",
    "env = MultitaskEnv(render_mode=\"human\", agentPOV=pov, task=1)"
   ]
  },
  {
   "cell_type": "code",
   "execution_count": 5,
   "metadata": {},
   "outputs": [
    {
     "name": "stdout",
     "output_type": "stream",
     "text": [
      "False\n"
     ]
    }
   ],
   "source": [
    "# Testcase 3: Rotating\n",
    "test3 = ([0,0,2,0,3,0,2,0,0,1,3,0,0,0,0],0)\n",
    "env.reset()\n",
    "for action in test3[0]:\n",
    "    observation, reward, terminated, truncated, info = env.step(action)\n",
    "    if terminated:\n",
    "        env.reset()\n",
    "print(terminated == test3[1])"
   ]
  },
  {
   "cell_type": "code",
   "execution_count": null,
   "metadata": {},
   "outputs": [],
   "source": [
    "env.step(0)\n",
    "env.step(3)\n",
    "# env.step(0)\n",
    "# env.step(3)\n",
    "# env.step(0)\n",
    "# env.step(3)\n",
    "# env.step(0)\n",
    "# env.step(3)\n",
    "\n",
    "env.step(0) #f(x) = 1 + (x - 1) * 2\n",
    "env.step(1)\n",
    "env.step(0)\n",
    "env.step(2)\n",
    "env.step(0)\n",
    "env.step(2)\n",
    "env.step(3)"
   ]
  },
  {
   "cell_type": "code",
   "execution_count": null,
   "metadata": {},
   "outputs": [],
   "source": [
    "env.step(0)\n",
    "env.step(3)"
   ]
  },
  {
   "cell_type": "code",
   "execution_count": null,
   "metadata": {},
   "outputs": [],
   "source": [
    "env.env_settings.min_steps"
   ]
  },
  {
   "cell_type": "code",
   "execution_count": 8,
   "metadata": {},
   "outputs": [
    {
     "name": "stdout",
     "output_type": "stream",
     "text": [
      "All test cases passed.\n"
     ]
    }
   ],
   "source": [
    "from tests.test_cases import testsuite\n",
    "testsuite.run_all()"
   ]
  },
  {
   "cell_type": "code",
   "execution_count": 7,
   "metadata": {},
   "outputs": [
    {
     "name": "stdout",
     "output_type": "stream",
     "text": [
      "Test with id 7 passed.\n"
     ]
    }
   ],
   "source": [
    "from tests.test_cases import testsuite\n",
    "testsuite.show(7)"
   ]
  },
  {
   "cell_type": "code",
   "execution_count": null,
   "metadata": {},
   "outputs": [],
   "source": [
    "# Testcase 1: Best Path\n",
    "test1 = ([1]*100, 1)\n",
    "env.reset()\n",
    "for action in test1[0]:\n",
    "    observation, reward, terminated, truncated, info = env.step(action)\n",
    "print(terminated == test1[1])"
   ]
  },
  {
   "cell_type": "code",
   "execution_count": null,
   "metadata": {},
   "outputs": [],
   "source": [
    "# Testcase 2: Trying to break things\n",
    "test2 = ([0,0,2,0,3,0,2,0,0,1,3,0,0], 0)\n",
    "env.reset()\n",
    "for action in test2[0]:\n",
    "    observation, reward, terminated, truncated, info = env.step(action)\n",
    "print(reward)"
   ]
  },
  {
   "cell_type": "code",
   "execution_count": null,
   "metadata": {},
   "outputs": [],
   "source": [
    "env.step(0)"
   ]
  },
  {
   "cell_type": "code",
   "execution_count": null,
   "metadata": {},
   "outputs": [],
   "source": [
    "observation, reward, terminated, truncated, info = env.step(1)\n",
    "print(terminated)"
   ]
  },
  {
   "cell_type": "code",
   "execution_count": null,
   "metadata": {},
   "outputs": [],
   "source": [
    "env.reset()\n",
    "for _ in range(1000):\n",
    "    a = np.random.choice(range(3))\n",
    "    observation, reward, terminated, truncated, info = env.step(a)\n",
    "    if terminated or truncated:\n",
    "        env.reset()"
   ]
  },
  {
   "cell_type": "code",
   "execution_count": null,
   "metadata": {},
   "outputs": [],
   "source": [
    "env.step(3)"
   ]
  },
  {
   "cell_type": "code",
   "execution_count": null,
   "metadata": {},
   "outputs": [],
   "source": [
    "env.reset()"
   ]
  },
  {
   "cell_type": "code",
   "execution_count": null,
   "metadata": {},
   "outputs": [],
   "source": [
    "from gymnasium.utils.env_checker import check_env\n",
    "check_env(env.unwrapped)"
   ]
  },
  {
   "cell_type": "code",
   "execution_count": null,
   "metadata": {},
   "outputs": [],
   "source": [
    "from stable_baselines3.common.env_checker import check_env\n",
    "check_env(env)"
   ]
  },
  {
   "cell_type": "code",
   "execution_count": null,
   "metadata": {},
   "outputs": [],
   "source": [
    "from gymnasium.envs.registration import register\n",
    "\n",
    "register(\n",
    "     id=\"Navigation-v0\",\n",
    "     entry_point=\"curiosityenv:CuriousNavigation\",\n",
    "     max_episode_steps=300,\n",
    ")"
   ]
  },
  {
   "cell_type": "code",
   "execution_count": null,
   "metadata": {},
   "outputs": [],
   "source": [
    "env = gym.make(\"Navigation-v0\", agentPOV=pov)"
   ]
  },
  {
   "cell_type": "code",
   "execution_count": null,
   "metadata": {},
   "outputs": [],
   "source": [
    "from stable_baselines3 import PPO\n",
    "env_l = CuriousNavigation(agentPOV=pov)\n",
    "model = PPO(\"MlpPolicy\", env_l, verbose=1)"
   ]
  },
  {
   "cell_type": "code",
   "execution_count": null,
   "metadata": {},
   "outputs": [],
   "source": [
    "model.learn(total_timesteps=50000)"
   ]
  },
  {
   "cell_type": "code",
   "execution_count": null,
   "metadata": {},
   "outputs": [],
   "source": [
    "env = CuriousNavigation(agentPOV=pov, render_mode=\"human\", window_width=700)\n",
    "observation, info = env.reset()\n",
    "for _ in range(1000):\n",
    "    a, states = model.predict(observation)\n",
    "    observation, reward, terminated, truncated, info = env.step(a)\n",
    "    print(a)\n",
    "    if terminated or truncated:\n",
    "        observation, info = env.reset()"
   ]
  },
  {
   "cell_type": "code",
   "execution_count": null,
   "metadata": {},
   "outputs": [],
   "source": [
    "spaces.Box(0, 7, (100,3), dtype=np.float64).sample()"
   ]
  },
  {
   "cell_type": "code",
   "execution_count": null,
   "metadata": {},
   "outputs": [],
   "source": [
    "int(None)"
   ]
  }
 ],
 "metadata": {
  "kernelspec": {
   "display_name": ".venv",
   "language": "python",
   "name": "python3"
  },
  "language_info": {
   "codemirror_mode": {
    "name": "ipython",
    "version": 3
   },
   "file_extension": ".py",
   "mimetype": "text/x-python",
   "name": "python",
   "nbconvert_exporter": "python",
   "pygments_lexer": "ipython3",
   "version": "3.12.3"
  }
 },
 "nbformat": 4,
 "nbformat_minor": 2
}
